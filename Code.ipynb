{
 "cells": [
  {
   "cell_type": "markdown",
   "metadata": {
    "id": "DmrQt2OW5moS",
    "pycharm": {
     "name": "#%% md\n"
    }
   },
   "source": [
    "# Reading Data"
   ]
  },
  {
   "cell_type": "code",
   "execution_count": 3,
   "metadata": {
    "id": "qG5nvVoE4QnT",
    "pycharm": {
     "name": "#%%\n"
    }
   },
   "outputs": [],
   "source": [
    "import networkx as nx\n",
    "\n",
    "\n",
    "friends_network = nx.DiGraph()            # PARENT is followed by CHILD\n",
    "friends_network_reversed = nx.DiGraph()   # PARENT follows CHILD\n",
    "retweets_network = nx.DiGraph()           # PARENT is retweeted by CHILD\n",
    "retweets_network_reversed = nx.DiGraph()  # PARENT retweets CHILD\n",
    "\n",
    "retweets_raw = open(\"fake_retweet_network.edgelist\", \"r\").read().strip().split(\"\\n\")\n",
    "retweets_data = []\n",
    "for line in retweets_raw:\n",
    "    retweets_network.add_edge(int(line.split(\" \")[1]), int(line.split(\" \")[0]))\n",
    "    retweets_network_reversed.add_edge(int(line.split(\" \")[0]), int(line.split(\" \")[1]))\n",
    "\n",
    "friends_raw = open(\"fake_social_network.edgelist\", \"r\").read().strip().split(\"\\n\")\n",
    "for line in friends_raw:\n",
    "  if int(line.split(\" \")[1]) in retweets_network.nodes:\n",
    "    friends_network.add_edge(int(line.split(\" \")[1]), int(line.split(\" \")[0]))\n",
    "    friends_network_reversed.add_edge(int(line.split(\" \")[0]), int(line.split(\" \")[1]))"
   ]
  },
  {
   "cell_type": "markdown",
   "metadata": {
    "id": "MkQutEBZ5wI7",
    "pycharm": {
     "name": "#%% md\n"
    }
   },
   "source": [
    "# Analysis"
   ]
  },
  {
   "cell_type": "code",
   "execution_count": 4,
   "metadata": {
    "colab": {
     "base_uri": "https://localhost:8080/",
     "height": 282
    },
    "id": "Gw8Nm0BJk1OD",
    "outputId": "b9c085a7-dbd3-4247-daba-e216c26fb7a2",
    "pycharm": {
     "name": "#%%\n"
    }
   },
   "outputs": [
    {
     "name": "stdout",
     "output_type": "stream",
     "text": [
      "1.2888655751103149 39.07603171002507\n"
     ]
    },
    {
     "data": {
      "image/png": "[encoded data removed]",
      "text/plain": [
       "<Figure size 432x288 with 1 Axes>"
      ]
     },
     "metadata": {
      "needs_background": "light"
     },
     "output_type": "display_data"
    }
   ],
   "source": [
    "from matplotlib import pyplot as plt\n",
    "from numpy import std, mean\n",
    "\n",
    "y = [len(retweets_network.adj[node]) for node in friends_network.nodes if node in retweets_network.nodes]\n",
    "print(mean(y), std(y))\n",
    "plt.plot(y)\n",
    "plt.show()"
   ]
  },
  {
   "cell_type": "code",
   "execution_count": 5,
   "metadata": {
    "id": "IMiec49_50mg",
    "pycharm": {
     "name": "#%%\n"
    }
   },
   "outputs": [],
   "source": [
    "from random import random\n",
    "\n",
    "data = []\n",
    "target = []\n",
    "\n",
    "for node in friends_network.nodes:\n",
    "  if node in retweets_network.nodes:\n",
    "    if len(retweets_network.adj[node]):\n",
    "      target.append(len(retweets_network.adj[node]) // 5)  # Number of Retweets\n",
    "    else:\n",
    "      continue\n",
    "  else:\n",
    "    continue\n",
    "\n",
    "  line = []\n",
    "\n",
    "  line.append(len(friends_network.adj[node]))     # Number of Followers\n",
    "  line.append(len(friends_network_reversed.adj[node]))  # Number of Follows\n",
    "\n",
    "  avg = 0\n",
    "  for elem in friends_network.adj[node]:\n",
    "    avg += len(friends_network_reversed.adj[elem]) / len(friends_network.adj[node])\n",
    "  \n",
    "  line.append(int(avg))                                # Average Number of Follows of Followers\n",
    "\n",
    "  avg = 0\n",
    "  for elem in friends_network.adj[node]:\n",
    "    if elem in retweets_network_reversed.nodes:\n",
    "      avg += len(retweets_network_reversed.adj[elem]) / len(friends_network.adj[node])\n",
    "  \n",
    "  line.append(int(avg))                                # Average Number of Tweets of Followers\n",
    "\n",
    "  data.append(line)"
   ]
  },
  {
   "cell_type": "markdown",
   "metadata": {
    "id": "D7GObfTW1McB",
    "pycharm": {
     "name": "#%% md\n"
    }
   },
   "source": [
    "Freeing up the RAM"
   ]
  },
  {
   "cell_type": "code",
   "execution_count": 6,
   "metadata": {
    "id": "F70cQrok0g3-",
    "pycharm": {
     "name": "#%%\n"
    }
   },
   "outputs": [],
   "source": [
    "del friends_network\n",
    "del friends_network_reversed\n",
    "del retweets_network\n",
    "del retweets_network_reversed"
   ]
  },
  {
   "cell_type": "code",
   "execution_count": 7,
   "metadata": {
    "id": "MGXMLb6txK3P",
    "pycharm": {
     "name": "#%%\n"
    }
   },
   "outputs": [],
   "source": [
    "#Removing outliers\n",
    "from numpy import mean, std\n",
    "\n",
    "m = mean(target)\n",
    "s = std(target)\n",
    "data1 = []\n",
    "target1 = []\n",
    "for i in range(len(target)):\n",
    "  if target[i] <= m + 2 * s:\n",
    "    target1.append(target[i])\n",
    "    data1.append(data[i])\n",
    "\n",
    "data = data1\n",
    "target = target1"
   ]
  },
  {
   "cell_type": "markdown",
   "metadata": {
    "id": "2zmcheL0ygLf",
    "pycharm": {
     "name": "#%% md\n"
    }
   },
   "source": [
    "# Machine Learning"
   ]
  },
  {
   "cell_type": "code",
   "execution_count": 8,
   "metadata": {
    "colab": {
     "base_uri": "https://localhost:8080/"
    },
    "id": "imOE1lHAuODM",
    "outputId": "3755f247-f25f-4375-dde8-2b86ba0542c6",
    "pycharm": {
     "name": "#%%\n"
    }
   },
   "outputs": [
    {
     "name": "stdout",
     "output_type": "stream",
     "text": [
      "Model Training Accuracy: 0.9972329491896494\n",
      "Model Testing Accuracy: 0.8303332522500608\n",
      "Mean Absolute Error: 0.6019216735587448\n",
      "Testing Max Error: 39\n",
      "F1 Score: 0.7815791382702116\n",
      "Precision: 0.747385136274709\n",
      "Recall: 0.8303332522500608\n"
     ]
    }
   ],
   "source": [
    "from sklearn.model_selection import train_test_split\n",
    "from sklearn.ensemble import RandomForestClassifier\n",
    "from sklearn.metrics import max_error, mean_absolute_error, precision_recall_fscore_support\n",
    "import warnings\n",
    "warnings.filterwarnings(\"ignore\")\n",
    "\n",
    "\n",
    "x_train, x_test, y_train, y_test = train_test_split(data, target, test_size=0.2)\n",
    "\n",
    "model = RandomForestClassifier(n_estimators=300, class_weight=\"balanced\")\n",
    "model.fit(x_train, y_train)\n",
    "y_pred = model.predict(x_test)\n",
    "\n",
    "print(\"Model Training Accuracy:\", model.score(x_train, y_train))\n",
    "print(\"Model Testing Accuracy:\", model.score(x_test, y_test))\n",
    "print(\"Mean Absolute Error:\", mean_absolute_error(y_test, y_pred))\n",
    "print(\"Testing Max Error:\", max_error(y_test, y_pred))\n",
    "precision, recall, f1_score, _ = precision_recall_fscore_support(y_test, y_pred, average=\"weighted\")\n",
    "print(\"F1 Score:\", f1_score)\n",
    "print(\"Precision:\", precision)\n",
    "print(\"Recall:\", recall)"
   ]
  },
  {
   "cell_type": "markdown",
   "metadata": {
    "id": "FaZB_opQMwzT",
    "pycharm": {
     "name": "#%% md\n"
    }
   },
   "source": [
    "# Deployment"
   ]
  },
  {
   "cell_type": "markdown",
   "metadata": {
    "id": "SdHcaXkmVkvt",
    "pycharm": {
     "name": "#%% md\n"
    }
   },
   "source": [
    "Only run this cell if the cell below fails"
   ]
  },
  {
   "cell_type": "code",
   "execution_count": 9,
   "metadata": {
    "id": "5n1kU7iuWmcM",
    "pycharm": {
     "name": "#%%\n"
    }
   },
   "outputs": [],
   "source": [
    "import pickle\n",
    "pickle.dump(model, open(\"model.sav\", \"wb\"))"
   ]
  },
  {
   "cell_type": "code",
   "execution_count": 16,
   "metadata": {
    "id": "dB3EzbCdVelg",
    "pycharm": {
     "name": "#%%\n"
    }
   },
   "outputs": [],
   "source": [
    "#!pip install kedro"
   ]
  },
  {
   "cell_type": "code",
   "execution_count": 11,
   "metadata": {
    "id": "ts5HMgioM0W1",
    "pycharm": {
     "name": "#%%\n"
    }
   },
   "outputs": [],
   "source": [
    "from kedro.pipeline import node, Pipeline\n",
    "from kedro.io import DataCatalog, MemoryDataSet\n",
    "from kedro.runner import SequentialRunner\n",
    "\n",
    "model = pickle.load(open(\"model.sav\", \"rb\"))"
   ]
  },
  {
   "cell_type": "code",
   "execution_count": 12,
   "metadata": {
    "id": "elcCf_eFjDtU",
    "pycharm": {
     "name": "#%%\n"
    }
   },
   "outputs": [],
   "source": [
    "def get_input_data():\n",
    "  return int(input(\"Number of Followers: \")), int(input(\"Number of Follows: \")), int(input(\"Average number of Follows the followers have: \")), int(input(\"Average number of tweets of the followers : \"))\n",
    "\n",
    "input_data_node = node(func=get_input_data, inputs=None, outputs=\"input_data\")\n",
    "\n",
    "def model_predict(input_data):\n",
    "  global model\n",
    "  print(model.predict([list(input_data)]))\n",
    "  return model.predict([list(input_data)])[0]\n",
    "\n",
    "prediction_node = node(func=model_predict, inputs=\"input_data\", outputs=\"prediction\")\n",
    "\n",
    "def result(prediction):\n",
    "  return prediction * 5, (prediction + 1) * 5\n",
    "\n",
    "result_node = node(func=result, inputs=\"prediction\", outputs=\"result\")"
   ]
  },
  {
   "cell_type": "code",
   "execution_count": 13,
   "metadata": {
    "id": "qvb03P4ejaw8",
    "pycharm": {
     "name": "#%%\n"
    }
   },
   "outputs": [],
   "source": [
    "pipeline = Pipeline([input_data_node, prediction_node, result_node])\n",
    "data_catalog = DataCatalog({\"input_data\": MemoryDataSet(), \"prediction\": MemoryDataSet(), \"result\": MemoryDataSet()})"
   ]
  },
  {
   "cell_type": "code",
   "execution_count": 14,
   "metadata": {
    "colab": {
     "base_uri": "https://localhost:8080/"
    },
    "id": "XXKxgezTZCrp",
    "outputId": "ee64addf-f0eb-4e4f-c358-b561638993ef",
    "pycharm": {
     "name": "#%%\n"
    }
   },
   "outputs": [
    {
     "name": "stderr",
     "output_type": "stream",
     "text": [
      "/usr/local/lib/python3.7/dist-packages/kedro/io/data_catalog.py:194: DeprecationWarning: The transformer API will be deprecated in Kedro 0.18.0.Please use Dataset Hooks to customise the load and save methods.For more information, please visithttps://kedro.readthedocs.io/en/stable/07_extend_kedro/02_hooks.html\n",
      "  DeprecationWarning,\n"
     ]
    },
    {
     "name": "stdout",
     "output_type": "stream",
     "text": [
      "Number of Followers: 2\n",
      "Number of Follows: 3\n",
      "Average number of Follows the followers have: 3\n",
      "Average number of tweets of the followers : 2\n",
      "[0]\n",
      "{}\n"
     ]
    }
   ],
   "source": [
    "runner = SequentialRunner()\n",
    "print(runner.run(pipeline, data_catalog))"
   ]
  },
  {
   "cell_type": "code",
   "execution_count": 15,
   "metadata": {
    "colab": {
     "base_uri": "https://localhost:8080/"
    },
    "id": "JtqPsSPg2D1U",
    "outputId": "11b54543-348e-4423-ee61-967bd7372944",
    "pycharm": {
     "name": "#%%\n"
    }
   },
   "outputs": [
    {
     "name": "stderr",
     "output_type": "stream",
     "text": [
      "/usr/local/lib/python3.7/dist-packages/kedro/io/data_catalog.py:194: DeprecationWarning: The transformer API will be deprecated in Kedro 0.18.0.Please use Dataset Hooks to customise the load and save methods.For more information, please visithttps://kedro.readthedocs.io/en/stable/07_extend_kedro/02_hooks.html\n",
      "  DeprecationWarning,\n"
     ]
    },
    {
     "name": "stdout",
     "output_type": "stream",
     "text": [
      "Number of Followers: 34567\n",
      "Number of Follows: 34567\n",
      "Average number of Follows the followers have: 34567\n",
      "Average number of tweets of the followers : 34567\n",
      "[35]\n",
      "{}\n"
     ]
    }
   ],
   "source": [
    "runner = SequentialRunner()\n",
    "print(runner.run(pipeline, data_catalog))\n"
   ]
  },
  {
   "cell_type": "code",
   "execution_count": 27,
   "metadata": {
    "id": "t-Yw5a2rwYas",
    "pycharm": {
     "name": "#%%\n"
    }
   },
   "outputs": [],
   "source": []
  },
  {
   "cell_type": "code",
   "execution_count": 27,
   "metadata": {
    "id": "wzwDn8SI8YiC",
    "pycharm": {
     "name": "#%%\n"
    }
   },
   "outputs": [],
   "source": []
  }
 ],
 "metadata": {
  "colab": {
   "collapsed_sections": [],
   "name": "Code.ipynb",
   "provenance": []
  },
  "kernelspec": {
   "display_name": "Python 3",
   "language": "python",
   "name": "python3"
  },
  "language_info": {
   "codemirror_mode": {
    "name": "ipython",
    "version": 3
   },
   "file_extension": ".py",
   "mimetype": "text/x-python",
   "name": "python",
   "nbconvert_exporter": "python",
   "pygments_lexer": "ipython3",
   "version": "3.6.9"
  }
 },
 "nbformat": 4,
 "nbformat_minor": 4
}